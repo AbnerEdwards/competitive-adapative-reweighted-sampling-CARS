{
 "cells": [
  {
   "cell_type": "markdown",
   "id": "d3e03fa3",
   "metadata": {},
   "source": [
    "# 1. 读取数据"
   ]
  },
  {
   "cell_type": "code",
   "execution_count": 1,
   "id": "47956ca7",
   "metadata": {},
   "outputs": [
    {
     "data": {
      "text/html": [
       "<div>\n",
       "<style scoped>\n",
       "    .dataframe tbody tr th:only-of-type {\n",
       "        vertical-align: middle;\n",
       "    }\n",
       "\n",
       "    .dataframe tbody tr th {\n",
       "        vertical-align: top;\n",
       "    }\n",
       "\n",
       "    .dataframe thead th {\n",
       "        text-align: right;\n",
       "    }\n",
       "</style>\n",
       "<table border=\"1\" class=\"dataframe\">\n",
       "  <thead>\n",
       "    <tr style=\"text-align: right;\">\n",
       "      <th></th>\n",
       "      <th>Brix</th>\n",
       "      <th>wl1</th>\n",
       "      <th>wl2</th>\n",
       "      <th>wl3</th>\n",
       "      <th>wl4</th>\n",
       "      <th>wl5</th>\n",
       "      <th>wl6</th>\n",
       "      <th>wl7</th>\n",
       "      <th>wl8</th>\n",
       "      <th>wl9</th>\n",
       "      <th>...</th>\n",
       "      <th>wl591</th>\n",
       "      <th>wl592</th>\n",
       "      <th>wl593</th>\n",
       "      <th>wl594</th>\n",
       "      <th>wl595</th>\n",
       "      <th>wl596</th>\n",
       "      <th>wl597</th>\n",
       "      <th>wl598</th>\n",
       "      <th>wl599</th>\n",
       "      <th>wl600</th>\n",
       "    </tr>\n",
       "  </thead>\n",
       "  <tbody>\n",
       "    <tr>\n",
       "      <th>0</th>\n",
       "      <td>15.5</td>\n",
       "      <td>-1.032355</td>\n",
       "      <td>-1.030551</td>\n",
       "      <td>-1.027970</td>\n",
       "      <td>-1.024937</td>\n",
       "      <td>-1.021866</td>\n",
       "      <td>-1.019143</td>\n",
       "      <td>-1.016866</td>\n",
       "      <td>-1.014910</td>\n",
       "      <td>-1.012907</td>\n",
       "      <td>...</td>\n",
       "      <td>0.692447</td>\n",
       "      <td>0.692944</td>\n",
       "      <td>0.692376</td>\n",
       "      <td>0.690764</td>\n",
       "      <td>0.688081</td>\n",
       "      <td>0.684294</td>\n",
       "      <td>0.679348</td>\n",
       "      <td>0.673240</td>\n",
       "      <td>0.665922</td>\n",
       "      <td>0.657307</td>\n",
       "    </tr>\n",
       "    <tr>\n",
       "      <th>1</th>\n",
       "      <td>16.7</td>\n",
       "      <td>-1.139034</td>\n",
       "      <td>-1.137186</td>\n",
       "      <td>-1.134485</td>\n",
       "      <td>-1.131222</td>\n",
       "      <td>-1.127761</td>\n",
       "      <td>-1.124464</td>\n",
       "      <td>-1.121508</td>\n",
       "      <td>-1.118802</td>\n",
       "      <td>-1.115973</td>\n",
       "      <td>...</td>\n",
       "      <td>0.729328</td>\n",
       "      <td>0.728031</td>\n",
       "      <td>0.725548</td>\n",
       "      <td>0.721815</td>\n",
       "      <td>0.716767</td>\n",
       "      <td>0.710405</td>\n",
       "      <td>0.702706</td>\n",
       "      <td>0.693710</td>\n",
       "      <td>0.683480</td>\n",
       "      <td>0.671960</td>\n",
       "    </tr>\n",
       "    <tr>\n",
       "      <th>2</th>\n",
       "      <td>18.1</td>\n",
       "      <td>-1.152821</td>\n",
       "      <td>-1.150937</td>\n",
       "      <td>-1.148288</td>\n",
       "      <td>-1.145165</td>\n",
       "      <td>-1.141951</td>\n",
       "      <td>-1.138977</td>\n",
       "      <td>-1.136366</td>\n",
       "      <td>-1.134011</td>\n",
       "      <td>-1.131516</td>\n",
       "      <td>...</td>\n",
       "      <td>0.736608</td>\n",
       "      <td>0.735214</td>\n",
       "      <td>0.732669</td>\n",
       "      <td>0.728911</td>\n",
       "      <td>0.723844</td>\n",
       "      <td>0.717415</td>\n",
       "      <td>0.709645</td>\n",
       "      <td>0.700555</td>\n",
       "      <td>0.690147</td>\n",
       "      <td>0.678390</td>\n",
       "    </tr>\n",
       "    <tr>\n",
       "      <th>3</th>\n",
       "      <td>14.8</td>\n",
       "      <td>-1.087215</td>\n",
       "      <td>-1.085455</td>\n",
       "      <td>-1.082867</td>\n",
       "      <td>-1.079797</td>\n",
       "      <td>-1.076568</td>\n",
       "      <td>-1.073632</td>\n",
       "      <td>-1.071087</td>\n",
       "      <td>-1.068877</td>\n",
       "      <td>-1.066654</td>\n",
       "      <td>...</td>\n",
       "      <td>0.758695</td>\n",
       "      <td>0.757963</td>\n",
       "      <td>0.756038</td>\n",
       "      <td>0.752903</td>\n",
       "      <td>0.748496</td>\n",
       "      <td>0.742886</td>\n",
       "      <td>0.736085</td>\n",
       "      <td>0.728019</td>\n",
       "      <td>0.718577</td>\n",
       "      <td>0.707702</td>\n",
       "    </tr>\n",
       "    <tr>\n",
       "      <th>4</th>\n",
       "      <td>15.1</td>\n",
       "      <td>-1.080364</td>\n",
       "      <td>-1.078436</td>\n",
       "      <td>-1.075784</td>\n",
       "      <td>-1.072693</td>\n",
       "      <td>-1.069562</td>\n",
       "      <td>-1.066691</td>\n",
       "      <td>-1.064214</td>\n",
       "      <td>-1.062025</td>\n",
       "      <td>-1.059787</td>\n",
       "      <td>...</td>\n",
       "      <td>0.719793</td>\n",
       "      <td>0.718875</td>\n",
       "      <td>0.716860</td>\n",
       "      <td>0.713771</td>\n",
       "      <td>0.709577</td>\n",
       "      <td>0.704232</td>\n",
       "      <td>0.697717</td>\n",
       "      <td>0.689882</td>\n",
       "      <td>0.680748</td>\n",
       "      <td>0.670263</td>\n",
       "    </tr>\n",
       "  </tbody>\n",
       "</table>\n",
       "<p>5 rows × 601 columns</p>\n",
       "</div>"
      ],
      "text/plain": [
       "   Brix       wl1       wl2       wl3       wl4       wl5       wl6       wl7  \\\n",
       "0  15.5 -1.032355 -1.030551 -1.027970 -1.024937 -1.021866 -1.019143 -1.016866   \n",
       "1  16.7 -1.139034 -1.137186 -1.134485 -1.131222 -1.127761 -1.124464 -1.121508   \n",
       "2  18.1 -1.152821 -1.150937 -1.148288 -1.145165 -1.141951 -1.138977 -1.136366   \n",
       "3  14.8 -1.087215 -1.085455 -1.082867 -1.079797 -1.076568 -1.073632 -1.071087   \n",
       "4  15.1 -1.080364 -1.078436 -1.075784 -1.072693 -1.069562 -1.066691 -1.064214   \n",
       "\n",
       "        wl8       wl9  ...     wl591     wl592     wl593     wl594     wl595  \\\n",
       "0 -1.014910 -1.012907  ...  0.692447  0.692944  0.692376  0.690764  0.688081   \n",
       "1 -1.118802 -1.115973  ...  0.729328  0.728031  0.725548  0.721815  0.716767   \n",
       "2 -1.134011 -1.131516  ...  0.736608  0.735214  0.732669  0.728911  0.723844   \n",
       "3 -1.068877 -1.066654  ...  0.758695  0.757963  0.756038  0.752903  0.748496   \n",
       "4 -1.062025 -1.059787  ...  0.719793  0.718875  0.716860  0.713771  0.709577   \n",
       "\n",
       "      wl596     wl597     wl598     wl599     wl600  \n",
       "0  0.684294  0.679348  0.673240  0.665922  0.657307  \n",
       "1  0.710405  0.702706  0.693710  0.683480  0.671960  \n",
       "2  0.717415  0.709645  0.700555  0.690147  0.678390  \n",
       "3  0.742886  0.736085  0.728019  0.718577  0.707702  \n",
       "4  0.704232  0.697717  0.689882  0.680748  0.670263  \n",
       "\n",
       "[5 rows x 601 columns]"
      ]
     },
     "execution_count": 1,
     "metadata": {},
     "output_type": "execute_result"
    }
   ],
   "source": [
    "# 导入 pandas 读取数据\n",
    "import pandas as pd\n",
    "import numpy as np\n",
    "\n",
    "# 读取数据\n",
    "data = pd.read_csv(\"./data/peach_spectra_brix.csv\")\n",
    "data[:5]"
   ]
  },
  {
   "cell_type": "markdown",
   "id": "83378b21",
   "metadata": {},
   "source": [
    "# 2. 数据处理"
   ]
  },
  {
   "cell_type": "code",
   "execution_count": 2,
   "id": "b0407d8f",
   "metadata": {},
   "outputs": [
    {
     "name": "stdout",
     "output_type": "stream",
     "text": [
      "数据矩阵 data.shape： (50, 601)\n",
      "X.shape:(50, 600), y.shape:(50,)\n"
     ]
    }
   ],
   "source": [
    "# m * n \n",
    "print(\"数据矩阵 data.shape：\",data.shape)\n",
    "\n",
    "# 50个样本， 600个 波段 第一列是 桃子糖度值 需要分离开\n",
    "X = data.values[:,1:] \n",
    "# 等同操作\n",
    "#X = data.drop(['Brix'], axis=1)\n",
    "\n",
    "y = data.values[:,0]\n",
    "# 等同操作\n",
    "# y = data.loc[:,'Brix'].values\n",
    "\n",
    "print(f\"X.shape:{X.shape}, y.shape:{y.shape}\")"
   ]
  },
  {
   "cell_type": "markdown",
   "id": "fc925958",
   "metadata": {},
   "source": [
    "# 3. 工具导入"
   ]
  },
  {
   "cell_type": "code",
   "execution_count": 3,
   "id": "1bec6331",
   "metadata": {},
   "outputs": [],
   "source": [
    "import CARS"
   ]
  },
  {
   "cell_type": "markdown",
   "id": "62815cc8",
   "metadata": {},
   "source": [
    "# 4. 建模筛选"
   ]
  },
  {
   "cell_type": "code",
   "execution_count": 4,
   "id": "a89d129b",
   "metadata": {
    "scrolled": false
   },
   "outputs": [
    {
     "data": {
      "image/png": "[encoded data removed]",
      "text/plain": [
       "<Figure size 432x288 with 2 Axes>"
      ]
     },
     "metadata": {
      "needs_background": "light"
     },
     "output_type": "display_data"
    },
    {
     "name": "stdout",
     "output_type": "stream",
     "text": [
      "获取波段数： 41\n",
      "[148 166 197 198 223 224 242 252 253 256 295 296 297 298 311 312 322 325\n",
      " 345 377 382 392 410 411 415 426 427 428 429 430 471 472 479 494 495 539\n",
      " 549 553 584 589 590]\n"
     ]
    }
   ],
   "source": [
    "lis = CARS.CARS_Cloud(X,y)\n",
    "print(\"获取波段数：\",len(lis))\n",
    "print(lis)"
   ]
  },
  {
   "cell_type": "markdown",
   "id": "78c5d479",
   "metadata": {},
   "source": [
    "# 5. 导出数据"
   ]
  },
  {
   "cell_type": "code",
   "execution_count": 5,
   "id": "68134595",
   "metadata": {},
   "outputs": [],
   "source": [
    "X_ = X[:,lis]"
   ]
  },
  {
   "cell_type": "code",
   "execution_count": 6,
   "id": "fc8589da",
   "metadata": {},
   "outputs": [
    {
     "data": {
      "text/plain": [
       "(50, 41)"
      ]
     },
     "execution_count": 6,
     "metadata": {},
     "output_type": "execute_result"
    }
   ],
   "source": [
    "X_.shape"
   ]
  },
  {
   "cell_type": "code",
   "execution_count": null,
   "id": "e45c5e7b",
   "metadata": {},
   "outputs": [],
   "source": []
  }
 ],
 "metadata": {
  "kernelspec": {
   "display_name": "Python 3",
   "language": "python",
   "name": "python3"
  },
  "language_info": {
   "codemirror_mode": {
    "name": "ipython",
    "version": 3
   },
   "file_extension": ".py",
   "mimetype": "text/x-python",
   "name": "python",
   "nbconvert_exporter": "python",
   "pygments_lexer": "ipython3",
   "version": "3.8.8"
  }
 },
 "nbformat": 4,
 "nbformat_minor": 5
}
